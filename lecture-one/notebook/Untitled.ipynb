{
 "cells": [
  {
   "cell_type": "markdown",
   "metadata": {},
   "source": [
    "# SQL ( Structured Query Language )\n",
    "\n",
    "Att lära sig en teknologi görs bäst genom att använda den. \n",
    "\n",
    "Databasen vi använder föreställer en digital musikaffär och innehåller tabellerna:\n",
    "\n",
    "* Album\n",
    "* Artist\n",
    "* Customer\n",
    "* Employee\n",
    "* Genre\n",
    "* Invoice\n",
    "* InvoiceLine\n",
    "* MediaType\n",
    "* Playlist\n",
    "* PlaylistTrack\n",
    "* Track\n",
    "\n",
    "![Databasmodell](/img/ChinookDatabaseSchema1.1.png)\n",
    "\n",
    "Det vi kommer fokusera oss på nu är tabellerna \n",
    "\n",
    "* Album\n",
    "    * [AlbumId]\n",
    "    * [Title]\n",
    "    * [ArtistId]\n",
    "    * [PK_Album]\n",
    "    * FOREIGN KEY ([ArtistId]) REFERENCES [Artist] ([ArtistId]) \n",
    "\n",
    "\n",
    "* Artist\n",
    "    * [ArtistId]\n",
    "    * [Name]\n",
    "    * CONSTRAINT [PK_Album] PRIMARY KEY  ([AlbumId])\n",
    "    * CONSTRAINT [PK_Artist] PRIMARY KEY  ([ArtistId])\n",
    "\n",
    "\n",
    "\n",
    "\n",
    "\n",
    "\n"
   ]
  },
  {
   "cell_type": "markdown",
   "metadata": {
    "collapsed": true
   },
   "source": [
    "### Hämta alla artister"
   ]
  }
 ],
 "metadata": {
  "kernelspec": {
   "display_name": "Python 3",
   "language": "python",
   "name": "python3"
  },
  "language_info": {
   "codemirror_mode": {
    "name": "ipython",
    "version": 3
   },
   "file_extension": ".py",
   "mimetype": "text/x-python",
   "name": "python",
   "nbconvert_exporter": "python",
   "pygments_lexer": "ipython3",
   "version": "3.6.3"
  }
 },
 "nbformat": 4,
 "nbformat_minor": 2
}
