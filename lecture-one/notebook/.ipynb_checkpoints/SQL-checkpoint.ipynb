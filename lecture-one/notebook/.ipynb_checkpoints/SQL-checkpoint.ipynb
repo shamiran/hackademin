{
 "cells": [
  {
   "cell_type": "markdown",
   "metadata": {},
   "source": [
    "# SQL ( Structured Query Language )\n",
    "\n",
    "Att lära sig en teknologi görs bäst genom att använda den!\n",
    "\n",
    "Databasen vi använder föreställer en digital musikaffär och innehåller tabellerna:\n",
    "\n",
    "![Databasmodell](img/ChinookDatabaseSchema1.1.png)\n",
    "\n",
    "#### Vi kommer börja med att fokusera på tabellerna nedan: \n",
    "~~~ {.sql}\n",
    "CREATE TABLE [Album]\n",
    "(\n",
    "    [AlbumId] INTEGER  NOT NULL,\n",
    "    [Title] NVARCHAR(160)  NOT NULL,\n",
    "    [ArtistId] INTEGER  NOT NULL,\n",
    "    CONSTRAINT [PK_Album] PRIMARY KEY  ([AlbumId]),\n",
    "    FOREIGN KEY ([ArtistId]) REFERENCES [Artist] ([ArtistId]) \n",
    "\t\tON DELETE NO ACTION ON UPDATE NO ACTION\n",
    ");\n",
    "\n",
    "CREATE TABLE [Artist]\n",
    "(\n",
    "    [ArtistId] INTEGER  NOT NULL,\n",
    "    [Name] NVARCHAR(120),\n",
    "    CONSTRAINT [PK_Artist] PRIMARY KEY  ([ArtistId])\n",
    ");\n",
    "\n",
    "CREATE TABLE [Genre]\n",
    "(\n",
    "    [GenreId] INTEGER  NOT NULL,\n",
    "    [Name] NVARCHAR(120),\n",
    "    CONSTRAINT [PK_Genre] PRIMARY KEY  ([GenreId])\n",
    ");\n",
    "\n",
    "CREATE TABLE [Track]\n",
    "(\n",
    "    [TrackId] INTEGER  NOT NULL,\n",
    "    [Name] NVARCHAR(200)  NOT NULL,\n",
    "    [AlbumId] INTEGER,\n",
    "    [MediaTypeId] INTEGER  NOT NULL,\n",
    "    [GenreId] INTEGER,\n",
    "    [Composer] NVARCHAR(220),\n",
    "    [Milliseconds] INTEGER  NOT NULL,\n",
    "    [Bytes] INTEGER,\n",
    "    [UnitPrice] NUMERIC(10,2)  NOT NULL,\n",
    "    CONSTRAINT [PK_Track] PRIMARY KEY  ([TrackId]),\n",
    "    FOREIGN KEY ([AlbumId]) REFERENCES [Album] ([AlbumId]) \n",
    "\t\tON DELETE NO ACTION ON UPDATE NO ACTION,\n",
    "    FOREIGN KEY ([GenreId]) REFERENCES [Genre] ([GenreId]) \n",
    "\t\tON DELETE NO ACTION ON UPDATE NO ACTION,\n",
    "    FOREIGN KEY ([MediaTypeId]) REFERENCES [MediaType] ([MediaTypeId]) \n",
    "\t\tON DELETE NO ACTION ON UPDATE NO ACTION\n",
    ");\n",
    "\n",
    "~~~\n",
    "\n",
    "\n",
    "\n",
    "\n",
    "\n",
    "\n",
    "\n"
   ]
  },
  {
   "cell_type": "markdown",
   "metadata": {
    "collapsed": true
   },
   "source": [
    "### Låt oss gräva!\n",
    "\n",
    "Nu har vi alltså en databas med massa information. För att börja gräva behöver vi ladda SQL extensionen. "
   ]
  },
  {
   "cell_type": "code",
   "execution_count": 7,
   "metadata": {
    "collapsed": false
   },
   "outputs": [
    {
     "name": "stdout",
     "output_type": "stream",
     "text": [
      "The sql extension is already loaded. To reload it, use:\n",
      "  %reload_ext sql\n"
     ]
    }
   ],
   "source": [
    "%load_ext sql"
   ]
  },
  {
   "cell_type": "code",
   "execution_count": 8,
   "metadata": {
    "collapsed": false
   },
   "outputs": [
    {
     "data": {
      "text/plain": [
       "'Connected: None@Chinook_Sqlite.sqlite'"
      ]
     },
     "execution_count": 8,
     "metadata": {},
     "output_type": "execute_result"
    }
   ],
   "source": [
    "%sql sqlite:///Chinook_Sqlite.sqlite"
   ]
  },
  {
   "cell_type": "markdown",
   "metadata": {},
   "source": [
    "1. a) Låt oss börja med att hämta alla Album."
   ]
  },
  {
   "cell_type": "code",
   "execution_count": 6,
   "metadata": {
    "collapsed": false
   },
   "outputs": [
    {
     "name": "stderr",
     "output_type": "stream",
     "text": [
      "UsageError: %%sql is a cell magic, but the cell body is empty. Did you mean the line magic %sql (single %)?\n"
     ]
    }
   ],
   "source": [
    "%%sql"
   ]
  },
  {
   "cell_type": "markdown",
   "metadata": {},
   "source": [
    "b) AlbumID och ArtistID var inte så intressant.. Låt oss bara hämta Title"
   ]
  },
  {
   "cell_type": "code",
   "execution_count": null,
   "metadata": {
    "collapsed": false
   },
   "outputs": [],
   "source": [
    "%%sql"
   ]
  },
  {
   "cell_type": "markdown",
   "metadata": {},
   "source": [
    "b) Låt oss sortera dom i bokstavsordning"
   ]
  },
  {
   "cell_type": "code",
   "execution_count": null,
   "metadata": {
    "collapsed": false
   },
   "outputs": [],
   "source": [
    "%%sql\n"
   ]
  },
  {
   "cell_type": "markdown",
   "metadata": {},
   "source": [
    "c) Hur många album finns det i affären?"
   ]
  },
  {
   "cell_type": "code",
   "execution_count": null,
   "metadata": {
    "collapsed": false,
    "scrolled": true
   },
   "outputs": [],
   "source": [
    "%%sql\n"
   ]
  },
  {
   "cell_type": "markdown",
   "metadata": {},
   "source": [
    "2. Låt oss vända oss till artisterna\n",
    "a) Hämta alla artister från databasen."
   ]
  },
  {
   "cell_type": "code",
   "execution_count": null,
   "metadata": {
    "collapsed": false
   },
   "outputs": [],
   "source": [
    "%%sql\n"
   ]
  },
  {
   "cell_type": "markdown",
   "metadata": {},
   "source": [
    "b) Hämta alla album som din favoritartist har gjort."
   ]
  },
  {
   "cell_type": "code",
   "execution_count": null,
   "metadata": {
    "collapsed": false
   },
   "outputs": [],
   "source": [
    "%%sql\n"
   ]
  },
  {
   "cell_type": "markdown",
   "metadata": {},
   "source": [
    "3. Hämta ut "
   ]
  },
  {
   "cell_type": "code",
   "execution_count": null,
   "metadata": {
    "collapsed": false
   },
   "outputs": [],
   "source": [
    "%%sql\n"
   ]
  },
  {
   "cell_type": "markdown",
   "metadata": {},
   "source": [
    "#### "
   ]
  },
  {
   "cell_type": "code",
   "execution_count": null,
   "metadata": {
    "collapsed": false,
    "scrolled": false
   },
   "outputs": [],
   "source": [
    "%%sql\n"
   ]
  },
  {
   "cell_type": "markdown",
   "metadata": {},
   "source": [
    "a) Sortera artisterna efter vem som har flest album."
   ]
  },
  {
   "cell_type": "markdown",
   "metadata": {},
   "source": [
    "b) Visa bara de 3 artisterna med flest album."
   ]
  },
  {
   "cell_type": "code",
   "execution_count": null,
   "metadata": {
    "collapsed": false
   },
   "outputs": [],
   "source": [
    "%%sql\n"
   ]
  },
  {
   "cell_type": "code",
   "execution_count": null,
   "metadata": {
    "collapsed": true
   },
   "outputs": [],
   "source": [
    "%%sql\n",
    "\n"
   ]
  }
 ],
 "metadata": {
  "kernelspec": {
   "display_name": "Python 3",
   "language": "python",
   "name": "python3"
  },
  "language_info": {
   "codemirror_mode": {
    "name": "ipython",
    "version": 3
   },
   "file_extension": ".py",
   "mimetype": "text/x-python",
   "name": "python",
   "nbconvert_exporter": "python",
   "pygments_lexer": "ipython3",
   "version": "3.6.3"
  }
 },
 "nbformat": 4,
 "nbformat_minor": 2
}
